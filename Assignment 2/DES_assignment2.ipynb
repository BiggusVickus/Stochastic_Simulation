{
 "cells": [
  {
   "cell_type": "markdown",
   "metadata": {},
   "source": [
    "# <font color = white > **Stochastic Simulation (5284STSI6Y) | MSc Computational Science at UvA** </font>"
   ]
  },
  {
   "cell_type": "markdown",
   "metadata": {},
   "source": [
    "# <font color = LightGreen > **Assignment 2: Discrete-Event Simulation** </font>\n",
    "*By Victor Piaskowski(15132625), Sanjhana Bhusal (14724383), and Lisa Pahladsingh(13846566)*\n",
    "\n",
    "Link to Github Repository: https://github.com/BiggusVickus/Stochastic_Simulation"
   ]
  },
  {
   "cell_type": "markdown",
   "metadata": {},
   "source": [
    "## <font color = LightBlue> **Exercise 1** </font>\n",
    "#### <font color = Grey> ***MATHEMATICAL EXPLANATION*** </font>\n",
    "In an M/M/2 queue, the arrival rate per server is given by $\\lambda$ and the service rate per server is given by $\\mu$. The utilization per server is denoted by $\\rho$ and is calculated as $\\rho = \\frac{\\lambda}{c\\mu}$. Therefore, for $c=2$ we get that $\\rho = \\frac{\\lambda}{2\\mu}$.\n",
    "\n",
    "The Erlang C formula is used to determine the probability that an arriving customer has to wait for service, and it is given by:\n",
    "\n",
    "$$\n",
    "P_w = \\frac{\\left(\\frac{\\rho^2}{2(1-\\rho)}\\right)}{\\sum_{k=0}^{1}\\frac{\\rho^k}{k!} + \\frac{\\rho^2}{2(1-\\rho)}}\n",
    "$$\n",
    "\n",
    "The average number of customers in the system (queue and service) for an M/M/2 queue is represented by $L$ and can be expressed as:\n",
    "\n",
    "$$\n",
    "L = \\lambda W_q\n",
    "$$\n",
    "\n",
    "where $W_q$ is the average waiting time in the queue for an M/M/2 system. This average waiting time $W_q$ is given by:\n",
    "\n",
    "$$\n",
    "W_q = \\frac{P_w}{\\lambda}\n",
    "$$\n",
    "\n",
    "For an M/M/2 queue, the average waiting time is usually shorter than that of an M/M/1 queue, particularly when the system load $\\rho$ is close to 1, which suggests a high utilization of the servers. This efficiency is due to the distribution of the workload between the two servers, allowing the system to handle a higher volume of traffic before queues build up significantly.\n",
    "\n",
    "\n",
    "\n",
    "#### <font color = Grey> ***THEORETICAL EXPLANATION***</font>\n",
    "In a queuing system where multiple servers are available (M/M/n), each server shares the task of handling incoming customers, as opposed to all customers lining up for a single server (M/M/1). This setup reduces the effective arrival rate of customers to each server because they are distributed across several servers. As a result, customers are likely to wait less because there is a higher chance that one of the servers will be free to help them sooner. Therefore, the system can manage more customer arrivals. This efficiency becomes especially significant when the system is close to its maximum capacity, denoted by a utilization value ($\\rho$) near 1. At this point, the presence of multiple servers is more important, as they collectively handle the high volume of customers and keep wait times shorter than what a single server could achieve."
   ]
  },
  {
   "cell_type": "markdown",
   "metadata": {},
   "source": [
    "## <font color = LightBlue> **Exercise 2** </font>"
   ]
  },
  {
   "cell_type": "code",
   "execution_count": 5,
   "metadata": {},
   "outputs": [
    {
     "name": "stdout",
     "output_type": "stream",
     "text": [
      "Number of servers: 1, ρ: 0.8, Mean wait time: 0.51\n",
      "Number of servers: 1, ρ: 0.9, Mean wait time: 0.95\n",
      "Number of servers: 1, ρ: 0.95, Mean wait time: 1.14\n",
      "Number of servers: 2, ρ: 0.8, Mean wait time: 0.15\n",
      "Number of servers: 2, ρ: 0.9, Mean wait time: 0.41\n",
      "Number of servers: 2, ρ: 0.95, Mean wait time: 0.72\n",
      "Number of servers: 4, ρ: 0.8, Mean wait time: 0.07\n",
      "Number of servers: 4, ρ: 0.9, Mean wait time: 0.20\n",
      "Number of servers: 4, ρ: 0.95, Mean wait time: 0.61\n"
     ]
    }
   ],
   "source": [
    "import simpy\n",
    "import random\n",
    "import statistics\n",
    "import scipy.stats\n",
    "import matplotlib.pyplot as plt\n",
    "\n",
    "# Parameters\n",
    "RANDOM_SEED = 42\n",
    "SIM_TIME = 1000  # Simulation time in minutes\n",
    "MU = 10  # Average service rate (1/MU is average service time)\n",
    "NUM_SERVERS = [1, 2, 4]  # Number of servers to simulate\n",
    "RHO_VALUES = [0.8, 0.9, 0.95]  # Values of ρ to simulate\n",
    "\n",
    "# Set the random seed for reproducibility\n",
    "random.seed(RANDOM_SEED)\n",
    "\n",
    "# Store statistics\n",
    "wait_times = {n: {rho: [] for rho in RHO_VALUES} for n in NUM_SERVERS}\n",
    "results = []  # Store results for plotting\n",
    "\n",
    "# Customer process\n",
    "def customer(env, name, servers, wait_times_list):\n",
    "    arrival_time = env.now\n",
    "    with servers.request() as request:\n",
    "        yield request\n",
    "        wait = env.now - arrival_time\n",
    "        wait_times_list.append(wait)\n",
    "        service_time = random.expovariate(MU)\n",
    "        yield env.timeout(service_time)\n",
    "\n",
    "# Source process\n",
    "def source(env, num_servers, rho, servers, wait_times_list):\n",
    "    \"\"\"Generate customers with arrival rate based on number of servers and rho.\"\"\"\n",
    "    while True:\n",
    "        arrival_rate = rho * num_servers * MU\n",
    "        yield env.timeout(random.expovariate(arrival_rate))\n",
    "        name = f'Customer{env.now:7.4f}'\n",
    "        env.process(customer(env, name, servers, wait_times_list))\n",
    "\n",
    "# Simulation setup\n",
    "def run_simulation(num_servers, rho):\n",
    "    env = simpy.Environment()\n",
    "    servers = simpy.Resource(env, capacity=num_servers)\n",
    "    wait_times_list = wait_times[num_servers][rho]\n",
    "    env.process(source(env, num_servers, rho, servers, wait_times_list))\n",
    "    env.run(until=SIM_TIME)\n",
    "\n",
    "# Run the simulation for each number of servers and ρ values\n",
    "for num_servers in NUM_SERVERS:\n",
    "    for rho in RHO_VALUES:\n",
    "        run_simulation(num_servers, rho)\n",
    "        # Calculate mean waiting time and 95% confidence interval\n",
    "        sample_wait_times = wait_times[num_servers][rho]\n",
    "        mean_wait = statistics.mean(sample_wait_times)\n",
    "        stdev_wait = statistics.stdev(sample_wait_times)\n",
    "        sample_size = len(sample_wait_times)\n",
    "        # ci_low, ci_upp = scipy.stats.t.interval(0.95, df=sample_size-1, loc=mean_wait, scale=stdev_wait/scipy.stats.sem(sample_wait_times))\n",
    "        results.append((num_servers, rho, mean_wait))\n",
    "\n",
    "        print(f'Number of servers: {num_servers}, ρ: {rho}, Mean wait time: {mean_wait:.2f}')\n",
    "\n",
    "# Plotting the results\n",
    "# for num_servers, rho, mean_wait, ci_lower, ci_upper in results:\n",
    "#     plt.errorbar(rho, mean_wait, yerr=[[mean_wait - ci_lower], [ci_upper - mean_wait]], fmt='o', label=f'n={num_servers}')\n",
    "\n",
    "# plt.xlabel('Traffic Intensity ($\\\\rho$)')\n",
    "# plt.ylabel('Mean Waiting Time')\n",
    "# plt.title('Mean Waiting Time vs Traffic Intensity for Different Numbers of Servers')\n",
    "# plt.legend()\n",
    "# plt.grid(True)\n",
    "# plt.show()\n"
   ]
  }
 ],
 "metadata": {
  "kernelspec": {
   "display_name": "Stochastic_Simulations",
   "language": "python",
   "name": "python3"
  },
  "language_info": {
   "codemirror_mode": {
    "name": "ipython",
    "version": 3
   },
   "file_extension": ".py",
   "mimetype": "text/x-python",
   "name": "python",
   "nbconvert_exporter": "python",
   "pygments_lexer": "ipython3",
   "version": "3.10.13"
  }
 },
 "nbformat": 4,
 "nbformat_minor": 2
}
