{
 "cells": [
  {
   "cell_type": "markdown",
   "metadata": {},
   "source": [
    "# <font color = white > **Stochastic Simulation (5284STSI6Y) | MSc Computational Science at UvA** </font>"
   ]
  },
  {
   "cell_type": "markdown",
   "metadata": {},
   "source": [
    "# <font color = LightGreen > **Assignment 2: Discrete-Event Simulation** </font>\n",
    "*By Victor Piaskowski(15132625), Sanjhana Bhusal (14724383), and Lisa Pahladsingh(13846566)*\n",
    "\n",
    "Link to Github Repository: https://github.com/BiggusVickus/Stochastic_Simulation"
   ]
  }
 ],
 "metadata": {
  "language_info": {
   "name": "python"
  }
 },
 "nbformat": 4,
 "nbformat_minor": 2
}
